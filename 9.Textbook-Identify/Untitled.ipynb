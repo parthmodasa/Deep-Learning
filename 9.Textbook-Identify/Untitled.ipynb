{
 "cells": [
  {
   "cell_type": "code",
   "execution_count": 2,
   "metadata": {},
   "outputs": [
    {
     "name": "stdout",
     "output_type": "stream",
     "text": [
      "*** Introductory Examples for the NLTK Book ***\n",
      "Loading text1, ..., text9 and sent1, ..., sent9\n",
      "Type the name of the text or sentence to view it.\n",
      "Type: 'texts()' or 'sents()' to list the materials.\n",
      "text1: Moby Dick by Herman Melville 1851\n",
      "text2: Sense and Sensibility by Jane Austen 1811\n",
      "text3: The Book of Genesis\n",
      "text4: Inaugural Address Corpus\n",
      "text5: Chat Corpus\n",
      "text6: Monty Python and the Holy Grail\n",
      "text7: Wall Street Journal\n",
      "text8: Personals Corpus\n",
      "text9: The Man Who Was Thursday by G . K . Chesterton 1908\n"
     ]
    },
    {
     "name": "stderr",
     "output_type": "stream",
     "text": [
      "Using TensorFlow backend.\n"
     ]
    }
   ],
   "source": [
    "from nltk import book\n",
    "import nltk\n",
    "import pandas as pd\n",
    "import numpy as np\n",
    "import matplotlib.pyplot as plt\n",
    "from sklearn.model_selection import train_test_split\n",
    "from sklearn.preprocessing import LabelEncoder\n",
    "from keras.models import Model\n",
    "from keras.layers import LSTM, Activation, Dense, Dropout, Input, Embedding\n",
    "from keras.optimizers import RMSprop\n",
    "from keras.preprocessing.text import Tokenizer\n",
    "from keras.preprocessing import sequence\n",
    "from keras.utils import to_categorical\n",
    "from keras.callbacks import EarlyStopping\n",
    "from keras.preprocessing.sequence import pad_sequences\n",
    "import numpy as np\n",
    "books = nltk.corpus.gutenberg.fileids()"
   ]
  },
  {
   "cell_type": "code",
   "execution_count": 3,
   "metadata": {},
   "outputs": [
    {
     "data": {
      "text/plain": [
       "['austen-emma.txt',\n",
       " 'austen-persuasion.txt',\n",
       " 'austen-sense.txt',\n",
       " 'bible-kjv.txt',\n",
       " 'blake-poems.txt',\n",
       " 'bryant-stories.txt',\n",
       " 'burgess-busterbrown.txt',\n",
       " 'carroll-alice.txt',\n",
       " 'chesterton-ball.txt',\n",
       " 'chesterton-brown.txt',\n",
       " 'chesterton-thursday.txt',\n",
       " 'edgeworth-parents.txt',\n",
       " 'melville-moby_dick.txt',\n",
       " 'milton-paradise.txt',\n",
       " 'shakespeare-caesar.txt',\n",
       " 'shakespeare-hamlet.txt',\n",
       " 'shakespeare-macbeth.txt',\n",
       " 'whitman-leaves.txt']"
      ]
     },
     "execution_count": 3,
     "metadata": {},
     "output_type": "execute_result"
    }
   ],
   "source": [
    "books"
   ]
  },
  {
   "cell_type": "code",
   "execution_count": 4,
   "metadata": {},
   "outputs": [],
   "source": [
    "text = []\n",
    "for i in range(len(books)):\n",
    "    text.append(nltk.corpus.gutenberg.words(books[i]))"
   ]
  },
  {
   "cell_type": "code",
   "execution_count": null,
   "metadata": {},
   "outputs": [],
   "source": []
  },
  {
   "cell_type": "code",
   "execution_count": 5,
   "metadata": {},
   "outputs": [
    {
     "data": {
      "text/plain": [
       "[['[', 'Emma', 'by', 'Jane', 'Austen', '1816', ']', ...],\n",
       " ['[', 'Persuasion', 'by', 'Jane', 'Austen', '1818', ...],\n",
       " ['[', 'Sense', 'and', 'Sensibility', 'by', 'Jane', ...],\n",
       " ['[', 'The', 'King', 'James', 'Bible', ']', 'The', ...],\n",
       " ['[', 'Poems', 'by', 'William', 'Blake', '1789', ']', ...],\n",
       " ['[', 'Stories', 'to', 'Tell', 'to', 'Children', 'by', ...],\n",
       " ['[', 'The', 'Adventures', 'of', 'Buster', 'Bear', ...],\n",
       " ['[', 'Alice', \"'\", 's', 'Adventures', 'in', ...],\n",
       " ['[', 'The', 'Ball', 'and', 'The', 'Cross', 'by', 'G', ...],\n",
       " ['[', 'The', 'Wisdom', 'of', 'Father', 'Brown', 'by', ...],\n",
       " ['[', 'The', 'Man', 'Who', 'Was', 'Thursday', 'by', ...],\n",
       " ['[', 'The', 'Parent', \"'\", 's', 'Assistant', ',', ...],\n",
       " ['[', 'Moby', 'Dick', 'by', 'Herman', 'Melville', ...],\n",
       " ['[', 'Paradise', 'Lost', 'by', 'John', 'Milton', ...],\n",
       " ['[', 'The', 'Tragedie', 'of', 'Julius', 'Caesar', ...],\n",
       " ['[', 'The', 'Tragedie', 'of', 'Hamlet', 'by', ...],\n",
       " ['[', 'The', 'Tragedie', 'of', 'Macbeth', 'by', ...],\n",
       " ['[', 'Leaves', 'of', 'Grass', 'by', 'Walt', 'Whitman', ...]]"
      ]
     },
     "execution_count": 5,
     "metadata": {},
     "output_type": "execute_result"
    }
   ],
   "source": [
    "text"
   ]
  },
  {
   "cell_type": "code",
   "execution_count": 6,
   "metadata": {},
   "outputs": [],
   "source": [
    "for i in range(len(text)):\n",
    "    text[i] = ' '.join(text[i])"
   ]
  },
  {
   "cell_type": "code",
   "execution_count": 8,
   "metadata": {},
   "outputs": [
    {
     "data": {
      "text/plain": [
       "915041"
      ]
     },
     "execution_count": 8,
     "metadata": {},
     "output_type": "execute_result"
    }
   ],
   "source": [
    "len(text[0])"
   ]
  },
  {
   "cell_type": "code",
   "execution_count": 9,
   "metadata": {},
   "outputs": [],
   "source": [
    "import string\n",
    "def text_process(mess):\n",
    "    lst = [x for x in mess if x not in string.punctuation+ '0123456789']\n",
    "    mess = ''.join(lst)\n",
    "    return(mess)"
   ]
  },
  {
   "cell_type": "code",
   "execution_count": 10,
   "metadata": {},
   "outputs": [],
   "source": [
    "for i in range(18):\n",
    "    text[i] = text_process(text[i])"
   ]
  },
  {
   "cell_type": "code",
   "execution_count": 11,
   "metadata": {},
   "outputs": [
    {
     "data": {
      "text/plain": [
       "876753"
      ]
     },
     "execution_count": 11,
     "metadata": {},
     "output_type": "execute_result"
    }
   ],
   "source": [
    "len(text[0])"
   ]
  },
  {
   "cell_type": "code",
   "execution_count": 12,
   "metadata": {},
   "outputs": [
    {
     "name": "stdout",
     "output_type": "stream",
     "text": [
      "['hello', 'i', 'am', 'parth']\n"
     ]
    }
   ],
   "source": [
    "def list_convertor(mess):\n",
    "    return(mess.split())\n",
    "print(list_convertor('hello i am parth'))    "
   ]
  },
  {
   "cell_type": "code",
   "execution_count": 13,
   "metadata": {},
   "outputs": [],
   "source": [
    "for i in range(18):\n",
    "    text[i] = list_convertor(text[i])"
   ]
  },
  {
   "cell_type": "code",
   "execution_count": null,
   "metadata": {},
   "outputs": [],
   "source": []
  },
  {
   "cell_type": "code",
   "execution_count": 14,
   "metadata": {},
   "outputs": [],
   "source": [
    "text[0] = text[0][:161800]\n",
    "text[1] = text[1][:84000]\n",
    "text[2] = text[2][:120400]\n",
    "text[3] = text[3][:791800]\n",
    "text[4] = text[4][:6800]\n",
    "text[5] = text[5][:46400]\n",
    "text[6] = text[6][:16000]\n",
    "text[7] = text[7][:27000]\n",
    "text[8] = text[8][:82400]\n",
    "text[9] = text[9][:73000]\n",
    "text[10] = text[10][:58400]\n",
    "text[11] = text[11][:170400]\n",
    "text[12] = text[12][:218000]\n",
    "text[13] = text[13][:80400]\n",
    "text[14] =text[14][:20800]\n",
    "text[15] = text[15][:30000]\n",
    "text[16] = text[16][:18000]\n",
    "text[17] = text[17][:126000]"
   ]
  },
  {
   "cell_type": "code",
   "execution_count": 15,
   "metadata": {},
   "outputs": [
    {
     "name": "stdout",
     "output_type": "stream",
     "text": [
      "161800\n",
      "84000\n",
      "120400\n",
      "791800\n",
      "6800\n",
      "46400\n",
      "16000\n",
      "27000\n",
      "82400\n",
      "73000\n",
      "58400\n",
      "170400\n",
      "218000\n",
      "80400\n",
      "20800\n",
      "30000\n",
      "18000\n",
      "126000\n"
     ]
    }
   ],
   "source": [
    "for i in range(18):\n",
    "    print(len(text[i]))"
   ]
  },
  {
   "cell_type": "markdown",
   "metadata": {},
   "source": [
    "len"
   ]
  },
  {
   "cell_type": "code",
   "execution_count": null,
   "metadata": {},
   "outputs": [],
   "source": []
  },
  {
   "cell_type": "code",
   "execution_count": 16,
   "metadata": {},
   "outputs": [],
   "source": [
    "# Test Method\n",
    "def chunks(l, n):\n",
    "    \"\"\"Yield successive n-sized chunks from l.\"\"\"\n",
    "    for i in range(0, len(l), n):\n",
    "        yield l[i:i + n]"
   ]
  },
  {
   "cell_type": "code",
   "execution_count": 17,
   "metadata": {},
   "outputs": [],
   "source": [
    "for i in range(18):\n",
    "    text[i] =  (list(chunks(text[i],400)))"
   ]
  },
  {
   "cell_type": "code",
   "execution_count": 16,
   "metadata": {},
   "outputs": [
    {
     "data": {
      "text/html": [
       "<div>\n",
       "<style scoped>\n",
       "    .dataframe tbody tr th:only-of-type {\n",
       "        vertical-align: middle;\n",
       "    }\n",
       "\n",
       "    .dataframe tbody tr th {\n",
       "        vertical-align: top;\n",
       "    }\n",
       "\n",
       "    .dataframe thead th {\n",
       "        text-align: right;\n",
       "    }\n",
       "</style>\n",
       "<table border=\"1\" class=\"dataframe\">\n",
       "  <thead>\n",
       "    <tr style=\"text-align: right;\">\n",
       "      <th></th>\n",
       "      <th>0</th>\n",
       "      <th>1</th>\n",
       "      <th>2</th>\n",
       "      <th>3</th>\n",
       "      <th>4</th>\n",
       "      <th>5</th>\n",
       "      <th>6</th>\n",
       "      <th>7</th>\n",
       "      <th>8</th>\n",
       "      <th>9</th>\n",
       "      <th>...</th>\n",
       "      <th>390</th>\n",
       "      <th>391</th>\n",
       "      <th>392</th>\n",
       "      <th>393</th>\n",
       "      <th>394</th>\n",
       "      <th>395</th>\n",
       "      <th>396</th>\n",
       "      <th>397</th>\n",
       "      <th>398</th>\n",
       "      <th>399</th>\n",
       "    </tr>\n",
       "  </thead>\n",
       "  <tbody>\n",
       "    <tr>\n",
       "      <th>0</th>\n",
       "      <td>Persuasion</td>\n",
       "      <td>by</td>\n",
       "      <td>Jane</td>\n",
       "      <td>Austen</td>\n",
       "      <td>Chapter</td>\n",
       "      <td>Sir</td>\n",
       "      <td>Walter</td>\n",
       "      <td>Elliot</td>\n",
       "      <td>of</td>\n",
       "      <td>Kellynch</td>\n",
       "      <td>...</td>\n",
       "      <td>he</td>\n",
       "      <td>did</td>\n",
       "      <td>nor</td>\n",
       "      <td>could</td>\n",
       "      <td>the</td>\n",
       "      <td>valet</td>\n",
       "      <td>of</td>\n",
       "      <td>any</td>\n",
       "      <td>new</td>\n",
       "      <td>made</td>\n",
       "    </tr>\n",
       "    <tr>\n",
       "      <th>1</th>\n",
       "      <td>lord</td>\n",
       "      <td>be</td>\n",
       "      <td>more</td>\n",
       "      <td>delighted</td>\n",
       "      <td>with</td>\n",
       "      <td>the</td>\n",
       "      <td>place</td>\n",
       "      <td>he</td>\n",
       "      <td>held</td>\n",
       "      <td>in</td>\n",
       "      <td>...</td>\n",
       "      <td>himself</td>\n",
       "      <td>on</td>\n",
       "      <td>remaining</td>\n",
       "      <td>single</td>\n",
       "      <td>for</td>\n",
       "      <td>his</td>\n",
       "      <td>dear</td>\n",
       "      <td>daughters</td>\n",
       "      <td>sake</td>\n",
       "      <td>For</td>\n",
       "    </tr>\n",
       "    <tr>\n",
       "      <th>2</th>\n",
       "      <td>one</td>\n",
       "      <td>daughter</td>\n",
       "      <td>his</td>\n",
       "      <td>eldest</td>\n",
       "      <td>he</td>\n",
       "      <td>would</td>\n",
       "      <td>really</td>\n",
       "      <td>have</td>\n",
       "      <td>given</td>\n",
       "      <td>up</td>\n",
       "      <td>...</td>\n",
       "      <td>good</td>\n",
       "      <td>looks</td>\n",
       "      <td>of</td>\n",
       "      <td>everybody</td>\n",
       "      <td>else</td>\n",
       "      <td>for</td>\n",
       "      <td>he</td>\n",
       "      <td>could</td>\n",
       "      <td>plainly</td>\n",
       "      <td>see</td>\n",
       "    </tr>\n",
       "    <tr>\n",
       "      <th>3</th>\n",
       "      <td>how</td>\n",
       "      <td>old</td>\n",
       "      <td>all</td>\n",
       "      <td>the</td>\n",
       "      <td>rest</td>\n",
       "      <td>of</td>\n",
       "      <td>his</td>\n",
       "      <td>family</td>\n",
       "      <td>and</td>\n",
       "      <td>acquaintance</td>\n",
       "      <td>...</td>\n",
       "      <td>marry</td>\n",
       "      <td>him</td>\n",
       "      <td>and</td>\n",
       "      <td>her</td>\n",
       "      <td>father</td>\n",
       "      <td>had</td>\n",
       "      <td>always</td>\n",
       "      <td>meant</td>\n",
       "      <td>that</td>\n",
       "      <td>she</td>\n",
       "    </tr>\n",
       "    <tr>\n",
       "      <th>4</th>\n",
       "      <td>should</td>\n",
       "      <td>He</td>\n",
       "      <td>had</td>\n",
       "      <td>not</td>\n",
       "      <td>been</td>\n",
       "      <td>known</td>\n",
       "      <td>to</td>\n",
       "      <td>them</td>\n",
       "      <td>as</td>\n",
       "      <td>a</td>\n",
       "      <td>...</td>\n",
       "      <td>him</td>\n",
       "      <td>to</td>\n",
       "      <td>be</td>\n",
       "      <td>worth</td>\n",
       "      <td>thinking</td>\n",
       "      <td>of</td>\n",
       "      <td>again</td>\n",
       "      <td>The</td>\n",
       "      <td>disgrace</td>\n",
       "      <td>of</td>\n",
       "    </tr>\n",
       "  </tbody>\n",
       "</table>\n",
       "<p>5 rows × 400 columns</p>\n",
       "</div>"
      ],
      "text/plain": [
       "          0         1     2          3        4      5       6       7    \\\n",
       "0  Persuasion        by  Jane     Austen  Chapter    Sir  Walter  Elliot   \n",
       "1        lord        be  more  delighted     with    the   place      he   \n",
       "2         one  daughter   his     eldest       he  would  really    have   \n",
       "3         how       old   all        the     rest     of     his  family   \n",
       "4      should        He   had        not     been  known      to    them   \n",
       "\n",
       "     8             9    ...      390    391        392        393       394  \\\n",
       "0     of      Kellynch  ...       he    did        nor      could       the   \n",
       "1   held            in  ...  himself     on  remaining     single       for   \n",
       "2  given            up  ...     good  looks         of  everybody      else   \n",
       "3    and  acquaintance  ...    marry    him        and        her    father   \n",
       "4     as             a  ...      him     to         be      worth  thinking   \n",
       "\n",
       "     395     396        397       398   399  \n",
       "0  valet      of        any       new  made  \n",
       "1    his    dear  daughters      sake   For  \n",
       "2    for      he      could   plainly   see  \n",
       "3    had  always      meant      that   she  \n",
       "4     of   again        The  disgrace    of  \n",
       "\n",
       "[5 rows x 400 columns]"
      ]
     },
     "execution_count": 16,
     "metadata": {},
     "output_type": "execute_result"
    }
   ],
   "source": [
    "import pandas as pd\n",
    "pd.DataFrame(text[1]).head()"
   ]
  },
  {
   "cell_type": "code",
   "execution_count": 17,
   "metadata": {},
   "outputs": [],
   "source": [
    "train = text[0] + text[1] + text[2] + text[3] + text[4] + text[5] + text[6] + text[7] + text[8] + text[9] + text[10] + text[11] + text[12] + text[13] + text[14] + text[15] + text[16] + text[17]\n"
   ]
  },
  {
   "cell_type": "code",
   "execution_count": 46,
   "metadata": {},
   "outputs": [],
   "source": [
    "labels = []\n",
    "for i in range(18):\n",
    "    labels = labels + ([i]*len(text[i]))"
   ]
  },
  {
   "cell_type": "code",
   "execution_count": 47,
   "metadata": {},
   "outputs": [
    {
     "data": {
      "text/plain": [
       "5331"
      ]
     },
     "execution_count": 47,
     "metadata": {},
     "output_type": "execute_result"
    }
   ],
   "source": [
    "len(labels)"
   ]
  },
  {
   "cell_type": "code",
   "execution_count": 20,
   "metadata": {},
   "outputs": [
    {
     "data": {
      "text/plain": [
       "5331"
      ]
     },
     "execution_count": 20,
     "metadata": {},
     "output_type": "execute_result"
    }
   ],
   "source": [
    "len(train)"
   ]
  },
  {
   "cell_type": "code",
   "execution_count": 55,
   "metadata": {},
   "outputs": [],
   "source": [
    "tok = Tokenizer(num_words=200000)\n",
    "tok.fit_on_texts(train)\n",
    "train_sequences = tok.texts_to_sequences(train)"
   ]
  },
  {
   "cell_type": "code",
   "execution_count": 50,
   "metadata": {},
   "outputs": [],
   "source": [
    "max_len = 420\n",
    "def RNN():\n",
    "    inputs = Input(name='inputs',shape=[max_len])\n",
    "    layer = Embedding(max_words,50,input_length=max_len)(inputs)\n",
    "    layer = LSTM(64)(layer)\n",
    "    layer = Dense(256,name='FC1',activation = 'relu')(layer)\n",
    "    layer = Dropout(0.5)(layer)\n",
    "    layer = Dense(1,name='out_layer',activation = 'sigmoid')(layer)\n",
    "    model = Model(inputs=inputs,outputs=layer)\n",
    "    return model"
   ]
  },
  {
   "cell_type": "code",
   "execution_count": 51,
   "metadata": {},
   "outputs": [
    {
     "name": "stdout",
     "output_type": "stream",
     "text": [
      "_________________________________________________________________\n",
      "Layer (type)                 Output Shape              Param #   \n",
      "=================================================================\n",
      "inputs (InputLayer)          (None, 420)               0         \n",
      "_________________________________________________________________\n",
      "embedding_2 (Embedding)      (None, 420, 50)           10000000  \n",
      "_________________________________________________________________\n",
      "lstm_2 (LSTM)                (None, 64)                29440     \n",
      "_________________________________________________________________\n",
      "FC1 (Dense)                  (None, 256)               16640     \n",
      "_________________________________________________________________\n",
      "dropout_3 (Dropout)          (None, 256)               0         \n",
      "_________________________________________________________________\n",
      "out_layer (Dense)            (None, 1)                 257       \n",
      "=================================================================\n",
      "Total params: 10,046,337\n",
      "Trainable params: 10,046,337\n",
      "Non-trainable params: 0\n",
      "_________________________________________________________________\n"
     ]
    }
   ],
   "source": [
    "model = RNN()\n",
    "model.summary()"
   ]
  },
  {
   "cell_type": "code",
   "execution_count": 54,
   "metadata": {},
   "outputs": [],
   "source": [
    "model.compile(loss='binary_crossentropy',optimizer=RMSprop(),metrics=['accuracy'])"
   ]
  },
  {
   "cell_type": "code",
   "execution_count": 48,
   "metadata": {},
   "outputs": [],
   "source": [
    "labels = np.array(labels)"
   ]
  },
  {
   "cell_type": "raw",
   "metadata": {},
   "source": [
    "train"
   ]
  },
  {
   "cell_type": "code",
   "execution_count": 61,
   "metadata": {},
   "outputs": [],
   "source": [
    "train_sequences = np.array(train_sequences)"
   ]
  },
  {
   "cell_type": "code",
   "execution_count": 27,
   "metadata": {},
   "outputs": [
    {
     "data": {
      "text/plain": [
       "array([ 0,  0,  0, ..., 17, 17, 17])"
      ]
     },
     "execution_count": 27,
     "metadata": {},
     "output_type": "execute_result"
    }
   ],
   "source": [
    "labels"
   ]
  },
  {
   "cell_type": "code",
   "execution_count": 63,
   "metadata": {},
   "outputs": [],
   "source": [
    "for i in range(len(train_sequences)):\n",
    "    train_sequences[i] = np.array(train_sequences[i])"
   ]
  },
  {
   "cell_type": "code",
   "execution_count": 46,
   "metadata": {},
   "outputs": [
    {
     "data": {
      "text/plain": [
       "(400,)"
      ]
     },
     "execution_count": 46,
     "metadata": {},
     "output_type": "execute_result"
    }
   ],
   "source": [
    "train_sequences[0].shape"
   ]
  },
  {
   "cell_type": "code",
   "execution_count": 39,
   "metadata": {},
   "outputs": [
    {
     "data": {
      "text/plain": [
       "(400,)"
      ]
     },
     "execution_count": 39,
     "metadata": {},
     "output_type": "execute_result"
    }
   ],
   "source": []
  },
  {
   "cell_type": "code",
   "execution_count": 67,
   "metadata": {},
   "outputs": [
    {
     "data": {
      "text/html": [
       "<div>\n",
       "<style scoped>\n",
       "    .dataframe tbody tr th:only-of-type {\n",
       "        vertical-align: middle;\n",
       "    }\n",
       "\n",
       "    .dataframe tbody tr th {\n",
       "        vertical-align: top;\n",
       "    }\n",
       "\n",
       "    .dataframe thead th {\n",
       "        text-align: right;\n",
       "    }\n",
       "</style>\n",
       "<table border=\"1\" class=\"dataframe\">\n",
       "  <thead>\n",
       "    <tr style=\"text-align: right;\">\n",
       "      <th></th>\n",
       "      <th>0</th>\n",
       "    </tr>\n",
       "  </thead>\n",
       "  <tbody>\n",
       "    <tr>\n",
       "      <th>0</th>\n",
       "      <td>[274, 41, 649, 17547, 4393, 7, 566, 7, 274, 62...</td>\n",
       "    </tr>\n",
       "    <tr>\n",
       "      <th>1</th>\n",
       "      <td>[13, 5, 55, 3, 10807, 897, 1119, 1084, 7706, 8...</td>\n",
       "    </tr>\n",
       "    <tr>\n",
       "      <th>2</th>\n",
       "      <td>[168, 5, 153, 8898, 2, 6112, 430, 123, 18, 770...</td>\n",
       "    </tr>\n",
       "    <tr>\n",
       "      <th>3</th>\n",
       "      <td>[25, 134, 20, 147, 16, 1, 1564, 3, 5, 88, 3, 2...</td>\n",
       "    </tr>\n",
       "    <tr>\n",
       "      <th>4</th>\n",
       "      <td>[7710, 41, 52, 7060, 20, 25, 134, 1, 17552, 51...</td>\n",
       "    </tr>\n",
       "    <tr>\n",
       "      <th>5</th>\n",
       "      <td>[16, 53, 17, 29, 6, 60, 176, 7, 85, 2, 53, 17,...</td>\n",
       "    </tr>\n",
       "    <tr>\n",
       "      <th>6</th>\n",
       "      <td>[1604, 4, 25, 4, 18, 1759, 3, 5, 1665, 5716, 2...</td>\n",
       "    </tr>\n",
       "    <tr>\n",
       "      <th>7</th>\n",
       "      <td>[37, 1243, 5, 1205, 3935, 12, 5, 219, 305, 30,...</td>\n",
       "    </tr>\n",
       "    <tr>\n",
       "      <th>8</th>\n",
       "      <td>[521, 2, 37, 16, 1, 117, 144, 7, 29, 3, 731, 2...</td>\n",
       "    </tr>\n",
       "    <tr>\n",
       "      <th>9</th>\n",
       "      <td>[3, 314, 34, 27, 15, 1, 376, 34, 27, 1992, 291...</td>\n",
       "    </tr>\n",
       "    <tr>\n",
       "      <th>10</th>\n",
       "      <td>[6119, 20, 19, 10, 13, 15, 1, 20798, 1778, 3, ...</td>\n",
       "    </tr>\n",
       "    <tr>\n",
       "      <th>11</th>\n",
       "      <td>[2069, 3741, 1970, 14, 146, 2, 212, 1244, 50, ...</td>\n",
       "    </tr>\n",
       "    <tr>\n",
       "      <th>12</th>\n",
       "      <td>[4, 1208, 266, 212, 2960, 49, 22, 240, 25, 33,...</td>\n",
       "    </tr>\n",
       "    <tr>\n",
       "      <th>13</th>\n",
       "      <td>[911, 552, 8, 1954, 11, 2512, 3, 777, 871, 2, ...</td>\n",
       "    </tr>\n",
       "    <tr>\n",
       "      <th>14</th>\n",
       "      <td>[2, 5, 252, 182, 52, 51, 1425, 171, 89, 44, 10...</td>\n",
       "    </tr>\n",
       "    <tr>\n",
       "      <th>15</th>\n",
       "      <td>[91, 25, 125, 214, 1665, 2, 73, 128, 720, 14, ...</td>\n",
       "    </tr>\n",
       "    <tr>\n",
       "      <th>16</th>\n",
       "      <td>[27, 188, 2218, 155, 73, 89, 375, 3, 96, 123, ...</td>\n",
       "    </tr>\n",
       "    <tr>\n",
       "      <th>17</th>\n",
       "      <td>[40, 51, 3, 93, 4976, 63, 7379, 8048, 73, 1209...</td>\n",
       "    </tr>\n",
       "    <tr>\n",
       "      <th>18</th>\n",
       "      <td>[2, 117, 5263, 4, 18, 4733, 41, 79, 51, 34, 24...</td>\n",
       "    </tr>\n",
       "    <tr>\n",
       "      <th>19</th>\n",
       "      <td>[20810, 2884, 5, 73, 666, 84, 20810, 2884, 272...</td>\n",
       "    </tr>\n",
       "    <tr>\n",
       "      <th>20</th>\n",
       "      <td>[165, 34, 13, 261, 1617, 9, 1036, 9, 72, 131, ...</td>\n",
       "    </tr>\n",
       "    <tr>\n",
       "      <th>21</th>\n",
       "      <td>[704, 333, 3, 26, 476, 2, 16, 165, 6, 51, 636,...</td>\n",
       "    </tr>\n",
       "    <tr>\n",
       "      <th>22</th>\n",
       "      <td>[52, 548, 3, 60, 162, 5, 604, 30, 383, 2, 17, ...</td>\n",
       "    </tr>\n",
       "    <tr>\n",
       "      <th>23</th>\n",
       "      <td>[11, 1101, 13, 73, 3351, 2, 9, 248, 76, 5, 182...</td>\n",
       "    </tr>\n",
       "    <tr>\n",
       "      <th>24</th>\n",
       "      <td>[86, 261, 17, 123, 29, 78, 839, 41, 11, 5115, ...</td>\n",
       "    </tr>\n",
       "    <tr>\n",
       "      <th>25</th>\n",
       "      <td>[52, 71, 12, 99, 106, 25, 388, 705, 13, 6, 51,...</td>\n",
       "    </tr>\n",
       "    <tr>\n",
       "      <th>26</th>\n",
       "      <td>[2, 274, 2698, 5, 73, 2053, 3531, 12, 155, 1, ...</td>\n",
       "    </tr>\n",
       "    <tr>\n",
       "      <th>27</th>\n",
       "      <td>[398, 428, 8, 17, 65, 15, 85, 1, 1836, 3, 5, 1...</td>\n",
       "    </tr>\n",
       "    <tr>\n",
       "      <th>28</th>\n",
       "      <td>[1, 117, 490, 507, 4, 12606, 14, 25, 34, 26476...</td>\n",
       "    </tr>\n",
       "    <tr>\n",
       "      <th>29</th>\n",
       "      <td>[1, 120, 614, 34, 3475, 4, 34, 44, 1098, 188, ...</td>\n",
       "    </tr>\n",
       "    <tr>\n",
       "      <th>...</th>\n",
       "      <td>...</td>\n",
       "    </tr>\n",
       "    <tr>\n",
       "      <th>5301</th>\n",
       "      <td>[35, 93, 2, 1, 41238, 3, 2101, 2, 1, 3873, 134...</td>\n",
       "    </tr>\n",
       "    <tr>\n",
       "      <th>5302</th>\n",
       "      <td>[1, 26431, 2, 3, 1, 2141, 3, 1236, 2, 3, 21, 8...</td>\n",
       "    </tr>\n",
       "    <tr>\n",
       "      <th>5303</th>\n",
       "      <td>[591, 7047, 1, 2267, 3, 2449, 6, 21, 5113, 118...</td>\n",
       "    </tr>\n",
       "    <tr>\n",
       "      <th>5304</th>\n",
       "      <td>[11363, 109, 50, 410, 50, 673, 1493, 50, 118, ...</td>\n",
       "    </tr>\n",
       "    <tr>\n",
       "      <th>5305</th>\n",
       "      <td>[6829, 6214, 2, 17, 5161, 8, 2955, 394, 3570, ...</td>\n",
       "    </tr>\n",
       "    <tr>\n",
       "      <th>5306</th>\n",
       "      <td>[59, 177, 1148, 6, 103, 170, 6, 1, 12581, 5492...</td>\n",
       "    </tr>\n",
       "    <tr>\n",
       "      <th>5307</th>\n",
       "      <td>[136, 4, 2753, 2, 15251, 30, 4330, 1724, 20, 6...</td>\n",
       "    </tr>\n",
       "    <tr>\n",
       "      <th>5308</th>\n",
       "      <td>[1, 196, 260, 71, 13582, 1, 138, 584, 260, 71,...</td>\n",
       "    </tr>\n",
       "    <tr>\n",
       "      <th>5309</th>\n",
       "      <td>[109, 2, 13569, 51, 217, 56, 4489, 1299, 17533...</td>\n",
       "    </tr>\n",
       "    <tr>\n",
       "      <th>5310</th>\n",
       "      <td>[41286, 14651, 13864, 114, 20657, 6, 26, 15417...</td>\n",
       "    </tr>\n",
       "    <tr>\n",
       "      <th>5311</th>\n",
       "      <td>[3, 1279, 5, 4141, 3, 186, 4, 2024, 3, 23, 4, ...</td>\n",
       "    </tr>\n",
       "    <tr>\n",
       "      <th>5312</th>\n",
       "      <td>[12458, 3, 21, 53, 3927, 17412, 2, 10238, 6, 1...</td>\n",
       "    </tr>\n",
       "    <tr>\n",
       "      <th>5313</th>\n",
       "      <td>[1216, 66, 17225, 1299, 8447, 61, 189, 3, 21, ...</td>\n",
       "    </tr>\n",
       "    <tr>\n",
       "      <th>5314</th>\n",
       "      <td>[30, 3446, 109, 2, 20410, 6, 160, 8855, 41, 12...</td>\n",
       "    </tr>\n",
       "    <tr>\n",
       "      <th>5315</th>\n",
       "      <td>[137, 50, 81, 50, 195, 169, 5692, 410, 928, 12...</td>\n",
       "    </tr>\n",
       "    <tr>\n",
       "      <th>5316</th>\n",
       "      <td>[92, 557, 1677, 41, 1, 691, 2109, 689, 272, 16...</td>\n",
       "    </tr>\n",
       "    <tr>\n",
       "      <th>5317</th>\n",
       "      <td>[5, 6101, 16744, 14, 2952, 2, 751, 497, 7, 91,...</td>\n",
       "    </tr>\n",
       "    <tr>\n",
       "      <th>5318</th>\n",
       "      <td>[97, 94, 412, 12155, 138, 12446, 15454, 3265, ...</td>\n",
       "    </tr>\n",
       "    <tr>\n",
       "      <th>5319</th>\n",
       "      <td>[1209, 1690, 4529, 38, 504, 4, 220, 264, 31, 6...</td>\n",
       "    </tr>\n",
       "    <tr>\n",
       "      <th>5320</th>\n",
       "      <td>[2, 3171, 4, 3472, 1, 663, 3, 668, 4, 1, 19853...</td>\n",
       "    </tr>\n",
       "    <tr>\n",
       "      <th>5321</th>\n",
       "      <td>[42, 134, 2501, 398, 18886, 67, 152, 42, 4204,...</td>\n",
       "    </tr>\n",
       "    <tr>\n",
       "      <th>5322</th>\n",
       "      <td>[1265, 50, 1464, 1464, 4955, 50, 4, 1, 5054, 1...</td>\n",
       "    </tr>\n",
       "    <tr>\n",
       "      <th>5323</th>\n",
       "      <td>[2, 12472, 7635, 211, 133, 84, 297, 4110, 109,...</td>\n",
       "    </tr>\n",
       "    <tr>\n",
       "      <th>5324</th>\n",
       "      <td>[2989, 104, 5, 153, 1294, 21097, 1458, 50, 381...</td>\n",
       "    </tr>\n",
       "    <tr>\n",
       "      <th>5325</th>\n",
       "      <td>[90, 967, 863, 429, 2, 1817, 6, 90, 1884, 2, 1...</td>\n",
       "    </tr>\n",
       "    <tr>\n",
       "      <th>5326</th>\n",
       "      <td>[12, 47, 329, 2160, 6486, 173, 3, 21, 357, 4, ...</td>\n",
       "    </tr>\n",
       "    <tr>\n",
       "      <th>5327</th>\n",
       "      <td>[63, 138, 55, 30, 26445, 832, 183, 1, 309, 157...</td>\n",
       "    </tr>\n",
       "    <tr>\n",
       "      <th>5328</th>\n",
       "      <td>[119, 4, 288, 2, 21, 3706, 6503, 615, 4, 1, 17...</td>\n",
       "    </tr>\n",
       "    <tr>\n",
       "      <th>5329</th>\n",
       "      <td>[2101, 7272, 7980, 29, 547, 26, 8586, 3, 60, 6...</td>\n",
       "    </tr>\n",
       "    <tr>\n",
       "      <th>5330</th>\n",
       "      <td>[2, 26, 1742, 48, 75, 220, 17, 1, 76, 59, 29, ...</td>\n",
       "    </tr>\n",
       "  </tbody>\n",
       "</table>\n",
       "<p>5331 rows × 1 columns</p>\n",
       "</div>"
      ],
      "text/plain": [
       "                                                      0\n",
       "0     [274, 41, 649, 17547, 4393, 7, 566, 7, 274, 62...\n",
       "1     [13, 5, 55, 3, 10807, 897, 1119, 1084, 7706, 8...\n",
       "2     [168, 5, 153, 8898, 2, 6112, 430, 123, 18, 770...\n",
       "3     [25, 134, 20, 147, 16, 1, 1564, 3, 5, 88, 3, 2...\n",
       "4     [7710, 41, 52, 7060, 20, 25, 134, 1, 17552, 51...\n",
       "5     [16, 53, 17, 29, 6, 60, 176, 7, 85, 2, 53, 17,...\n",
       "6     [1604, 4, 25, 4, 18, 1759, 3, 5, 1665, 5716, 2...\n",
       "7     [37, 1243, 5, 1205, 3935, 12, 5, 219, 305, 30,...\n",
       "8     [521, 2, 37, 16, 1, 117, 144, 7, 29, 3, 731, 2...\n",
       "9     [3, 314, 34, 27, 15, 1, 376, 34, 27, 1992, 291...\n",
       "10    [6119, 20, 19, 10, 13, 15, 1, 20798, 1778, 3, ...\n",
       "11    [2069, 3741, 1970, 14, 146, 2, 212, 1244, 50, ...\n",
       "12    [4, 1208, 266, 212, 2960, 49, 22, 240, 25, 33,...\n",
       "13    [911, 552, 8, 1954, 11, 2512, 3, 777, 871, 2, ...\n",
       "14    [2, 5, 252, 182, 52, 51, 1425, 171, 89, 44, 10...\n",
       "15    [91, 25, 125, 214, 1665, 2, 73, 128, 720, 14, ...\n",
       "16    [27, 188, 2218, 155, 73, 89, 375, 3, 96, 123, ...\n",
       "17    [40, 51, 3, 93, 4976, 63, 7379, 8048, 73, 1209...\n",
       "18    [2, 117, 5263, 4, 18, 4733, 41, 79, 51, 34, 24...\n",
       "19    [20810, 2884, 5, 73, 666, 84, 20810, 2884, 272...\n",
       "20    [165, 34, 13, 261, 1617, 9, 1036, 9, 72, 131, ...\n",
       "21    [704, 333, 3, 26, 476, 2, 16, 165, 6, 51, 636,...\n",
       "22    [52, 548, 3, 60, 162, 5, 604, 30, 383, 2, 17, ...\n",
       "23    [11, 1101, 13, 73, 3351, 2, 9, 248, 76, 5, 182...\n",
       "24    [86, 261, 17, 123, 29, 78, 839, 41, 11, 5115, ...\n",
       "25    [52, 71, 12, 99, 106, 25, 388, 705, 13, 6, 51,...\n",
       "26    [2, 274, 2698, 5, 73, 2053, 3531, 12, 155, 1, ...\n",
       "27    [398, 428, 8, 17, 65, 15, 85, 1, 1836, 3, 5, 1...\n",
       "28    [1, 117, 490, 507, 4, 12606, 14, 25, 34, 26476...\n",
       "29    [1, 120, 614, 34, 3475, 4, 34, 44, 1098, 188, ...\n",
       "...                                                 ...\n",
       "5301  [35, 93, 2, 1, 41238, 3, 2101, 2, 1, 3873, 134...\n",
       "5302  [1, 26431, 2, 3, 1, 2141, 3, 1236, 2, 3, 21, 8...\n",
       "5303  [591, 7047, 1, 2267, 3, 2449, 6, 21, 5113, 118...\n",
       "5304  [11363, 109, 50, 410, 50, 673, 1493, 50, 118, ...\n",
       "5305  [6829, 6214, 2, 17, 5161, 8, 2955, 394, 3570, ...\n",
       "5306  [59, 177, 1148, 6, 103, 170, 6, 1, 12581, 5492...\n",
       "5307  [136, 4, 2753, 2, 15251, 30, 4330, 1724, 20, 6...\n",
       "5308  [1, 196, 260, 71, 13582, 1, 138, 584, 260, 71,...\n",
       "5309  [109, 2, 13569, 51, 217, 56, 4489, 1299, 17533...\n",
       "5310  [41286, 14651, 13864, 114, 20657, 6, 26, 15417...\n",
       "5311  [3, 1279, 5, 4141, 3, 186, 4, 2024, 3, 23, 4, ...\n",
       "5312  [12458, 3, 21, 53, 3927, 17412, 2, 10238, 6, 1...\n",
       "5313  [1216, 66, 17225, 1299, 8447, 61, 189, 3, 21, ...\n",
       "5314  [30, 3446, 109, 2, 20410, 6, 160, 8855, 41, 12...\n",
       "5315  [137, 50, 81, 50, 195, 169, 5692, 410, 928, 12...\n",
       "5316  [92, 557, 1677, 41, 1, 691, 2109, 689, 272, 16...\n",
       "5317  [5, 6101, 16744, 14, 2952, 2, 751, 497, 7, 91,...\n",
       "5318  [97, 94, 412, 12155, 138, 12446, 15454, 3265, ...\n",
       "5319  [1209, 1690, 4529, 38, 504, 4, 220, 264, 31, 6...\n",
       "5320  [2, 3171, 4, 3472, 1, 663, 3, 668, 4, 1, 19853...\n",
       "5321  [42, 134, 2501, 398, 18886, 67, 152, 42, 4204,...\n",
       "5322  [1265, 50, 1464, 1464, 4955, 50, 4, 1, 5054, 1...\n",
       "5323  [2, 12472, 7635, 211, 133, 84, 297, 4110, 109,...\n",
       "5324  [2989, 104, 5, 153, 1294, 21097, 1458, 50, 381...\n",
       "5325  [90, 967, 863, 429, 2, 1817, 6, 90, 1884, 2, 1...\n",
       "5326  [12, 47, 329, 2160, 6486, 173, 3, 21, 357, 4, ...\n",
       "5327  [63, 138, 55, 30, 26445, 832, 183, 1, 309, 157...\n",
       "5328  [119, 4, 288, 2, 21, 3706, 6503, 615, 4, 1, 17...\n",
       "5329  [2101, 7272, 7980, 29, 547, 26, 8586, 3, 60, 6...\n",
       "5330  [2, 26, 1742, 48, 75, 220, 17, 1, 76, 59, 29, ...\n",
       "\n",
       "[5331 rows x 1 columns]"
      ]
     },
     "execution_count": 67,
     "metadata": {},
     "output_type": "execute_result"
    }
   ],
   "source": [
    "pd.DataFrame(train_sequences)"
   ]
  },
  {
   "cell_type": "code",
   "execution_count": null,
   "metadata": {},
   "outputs": [],
   "source": []
  },
  {
   "cell_type": "code",
   "execution_count": 24,
   "metadata": {},
   "outputs": [],
   "source": [
    "for j in range(18): \n",
    "    for i in range(len(text[j])):\n",
    "        text[j][i] = ' '.join(text[j][i])"
   ]
  },
  {
   "cell_type": "code",
   "execution_count": 27,
   "metadata": {},
   "outputs": [
    {
     "data": {
      "text/plain": [
       "2190"
      ]
     },
     "execution_count": 27,
     "metadata": {},
     "output_type": "execute_result"
    }
   ],
   "source": [
    "len(text[0][0])"
   ]
  },
  {
   "cell_type": "code",
   "execution_count": 28,
   "metadata": {},
   "outputs": [
    {
     "data": {
      "text/plain": [
       "list"
      ]
     },
     "execution_count": 28,
     "metadata": {},
     "output_type": "execute_result"
    }
   ],
   "source": [
    "type(text)"
   ]
  },
  {
   "cell_type": "code",
   "execution_count": 29,
   "metadata": {},
   "outputs": [],
   "source": [
    "my_train = text[0]+text[1]+text[2]+text[3]+text[4]+text[5]+text[6]+text[7]+text[8]+text[9]+text[10]+text[11]+text[12]+text[13]+text[14]+text[15]+text[16]+text[17]"
   ]
  },
  {
   "cell_type": "code",
   "execution_count": 30,
   "metadata": {},
   "outputs": [
    {
     "data": {
      "text/plain": [
       "5331"
      ]
     },
     "execution_count": 30,
     "metadata": {},
     "output_type": "execute_result"
    }
   ],
   "source": [
    "len(my_train)"
   ]
  },
  {
   "cell_type": "code",
   "execution_count": 34,
   "metadata": {},
   "outputs": [],
   "source": [
    "from pandas import Series\n",
    "my_Seriese = Series(my_train)"
   ]
  },
  {
   "cell_type": "code",
   "execution_count": 36,
   "metadata": {},
   "outputs": [
    {
     "data": {
      "text/plain": [
       "0       Emma by Jane Austen VOLUME I CHAPTER I Emma Wo...\n",
       "1       was a man of unexceptionable character easy fo...\n",
       "2       many a long October and November evening must ...\n",
       "3       her own But where is the advantage of a house ...\n",
       "4       attacked by no regrets but her own The backgam...\n",
       "5       is what you have in your head I know and what ...\n",
       "6       important to her to be secure of a comfortable...\n",
       "7       this marriage A worthy employment for a young ...\n",
       "8       Elton and this is the only way I have of doing...\n",
       "9       of spirit she had not the best She had resolut...\n",
       "10      schemes but as it was not the tyrannic influen...\n",
       "11      Perry drank tea with Mrs and Miss Bates or whe...\n",
       "12      to pity poor Miss Taylor when they left her at...\n",
       "13      families beyond that circle his horror of late...\n",
       "14      and a woman whom no one named without good wil...\n",
       "15      see her father look comfortable and very much ...\n",
       "16      had just parted though very good sort of peopl...\n",
       "17      on one of these eggs An egg boiled very soft i...\n",
       "18      and only desiring to be guided by any one she ...\n",
       "19      Welch cow a very pretty little Welch cow indee...\n",
       "20      therefore she was sure whenever he married he ...\n",
       "21      need none of my help and is therefore in one s...\n",
       "22      no doubt of your being a gentleman s daughter ...\n",
       "23      His appearance was very neat and he looked lik...\n",
       "24      am sure you must have been struck by his awkwa...\n",
       "25      no more for some time Her next beginning was I...\n",
       "26      and Emma imagined a very sufficient income for...\n",
       "27      live alone that you do not know the value of a...\n",
       "28      the only person able to cope with her She inhe...\n",
       "29      the other places she belongs to She will grow ...\n",
       "                              ...                        \n",
       "5301    from these and the marts of wealth and the cro...\n",
       "5302    the Democracies and of the fruits of society a...\n",
       "5303    spirits Illustrious the mystery of motion in a...\n",
       "5304    roam d Or cities or silent woods or even amid ...\n",
       "5305    local spots and you airs that swim above light...\n",
       "5306    we too camp in our place in the bivouac camps ...\n",
       "5307    again to port and hawser s tie returning But n...\n",
       "5308    the days once more Peal the old cry once more ...\n",
       "5309    d and basking One side thy inland ocean laving...\n",
       "5310    constipation whimpering ennui May filter in my...\n",
       "5311    of prayer a pulse of thought To memory of Him ...\n",
       "5312    aggregate of all What subtle indirection and s...\n",
       "5313    yours ye multitudinous ocean VIII Then Last Of...\n",
       "5314    s chain d and chafing in those breakers By len...\n",
       "5315    land or day or night Through teeming cities st...\n",
       "5316    great arm chair by the window seated Sometimes...\n",
       "5317    a limitless ravine with plains and mountains d...\n",
       "5318    us go True Conquerors Old farmers travelers wo...\n",
       "5319    soft falling shower Which strange to tell gave...\n",
       "5320    and scenes to forming the line of battle To th...\n",
       "5321    their own soil live sprouting Now here their s...\n",
       "5322    Adam Or Beat Beat Drums or To the Leaven d Soi...\n",
       "5323    and jib steer forth O little white hull d sloo...\n",
       "5324    soldier after a long hot wearying march or hap...\n",
       "5325    every object mountain tree and star in every b...\n",
       "5326    For thou art spiritual Godly most of all known...\n",
       "5327    An old man s garrulous lips among the rest Thi...\n",
       "5328    hand to each and all Sank faintly low to the f...\n",
       "5329    wealth inventions civilization Have lost my re...\n",
       "5330    And my mate there could tell you the like we h...\n",
       "Length: 5331, dtype: object"
      ]
     },
     "execution_count": 36,
     "metadata": {},
     "output_type": "execute_result"
    }
   ],
   "source": [
    "my_Seriese"
   ]
  },
  {
   "cell_type": "code",
   "execution_count": 37,
   "metadata": {},
   "outputs": [
    {
     "data": {
      "text/plain": [
       "pandas.core.series.Series"
      ]
     },
     "execution_count": 37,
     "metadata": {},
     "output_type": "execute_result"
    }
   ],
   "source": [
    "type(my_Seriese)"
   ]
  },
  {
   "cell_type": "code",
   "execution_count": 38,
   "metadata": {},
   "outputs": [],
   "source": [
    "max_words = 200000\n",
    "max_len = 420\n",
    "tok = Tokenizer(num_words=max_words)\n",
    "tok.fit_on_texts(my_Seriese)\n",
    "sequences = tok.texts_to_sequences(my_Seriese)\n",
    "sequences_matrix = sequence.pad_sequences(sequences,maxlen=max_len)"
   ]
  },
  {
   "cell_type": "code",
   "execution_count": null,
   "metadata": {},
   "outputs": [],
   "source": [
    "model.fit(sequences_matrix,labels,batch_size=128,epochs=10,\n",
    "          validation_split=0.2,callbacks=[EarlyStopping(monitor='val_loss',min_delta=0.0001)])"
   ]
  },
  {
   "cell_type": "code",
   "execution_count": 57,
   "metadata": {},
   "outputs": [],
   "source": [
    "x = pd.DataFrame(labels)"
   ]
  },
  {
   "cell_type": "code",
   "execution_count": 60,
   "metadata": {},
   "outputs": [],
   "source": [
    "dfDummies = pd.get_dummies(x, prefix = 'bookindex')"
   ]
  },
  {
   "cell_type": "code",
   "execution_count": 61,
   "metadata": {},
   "outputs": [
    {
     "data": {
      "text/html": [
       "<div>\n",
       "<style scoped>\n",
       "    .dataframe tbody tr th:only-of-type {\n",
       "        vertical-align: middle;\n",
       "    }\n",
       "\n",
       "    .dataframe tbody tr th {\n",
       "        vertical-align: top;\n",
       "    }\n",
       "\n",
       "    .dataframe thead th {\n",
       "        text-align: right;\n",
       "    }\n",
       "</style>\n",
       "<table border=\"1\" class=\"dataframe\">\n",
       "  <thead>\n",
       "    <tr style=\"text-align: right;\">\n",
       "      <th></th>\n",
       "      <th>0</th>\n",
       "    </tr>\n",
       "  </thead>\n",
       "  <tbody>\n",
       "    <tr>\n",
       "      <th>0</th>\n",
       "      <td>0</td>\n",
       "    </tr>\n",
       "    <tr>\n",
       "      <th>1</th>\n",
       "      <td>0</td>\n",
       "    </tr>\n",
       "    <tr>\n",
       "      <th>2</th>\n",
       "      <td>0</td>\n",
       "    </tr>\n",
       "    <tr>\n",
       "      <th>3</th>\n",
       "      <td>0</td>\n",
       "    </tr>\n",
       "    <tr>\n",
       "      <th>4</th>\n",
       "      <td>0</td>\n",
       "    </tr>\n",
       "    <tr>\n",
       "      <th>5</th>\n",
       "      <td>0</td>\n",
       "    </tr>\n",
       "    <tr>\n",
       "      <th>6</th>\n",
       "      <td>0</td>\n",
       "    </tr>\n",
       "    <tr>\n",
       "      <th>7</th>\n",
       "      <td>0</td>\n",
       "    </tr>\n",
       "    <tr>\n",
       "      <th>8</th>\n",
       "      <td>0</td>\n",
       "    </tr>\n",
       "    <tr>\n",
       "      <th>9</th>\n",
       "      <td>0</td>\n",
       "    </tr>\n",
       "    <tr>\n",
       "      <th>10</th>\n",
       "      <td>0</td>\n",
       "    </tr>\n",
       "    <tr>\n",
       "      <th>11</th>\n",
       "      <td>0</td>\n",
       "    </tr>\n",
       "    <tr>\n",
       "      <th>12</th>\n",
       "      <td>0</td>\n",
       "    </tr>\n",
       "    <tr>\n",
       "      <th>13</th>\n",
       "      <td>0</td>\n",
       "    </tr>\n",
       "    <tr>\n",
       "      <th>14</th>\n",
       "      <td>0</td>\n",
       "    </tr>\n",
       "    <tr>\n",
       "      <th>15</th>\n",
       "      <td>0</td>\n",
       "    </tr>\n",
       "    <tr>\n",
       "      <th>16</th>\n",
       "      <td>0</td>\n",
       "    </tr>\n",
       "    <tr>\n",
       "      <th>17</th>\n",
       "      <td>0</td>\n",
       "    </tr>\n",
       "    <tr>\n",
       "      <th>18</th>\n",
       "      <td>0</td>\n",
       "    </tr>\n",
       "    <tr>\n",
       "      <th>19</th>\n",
       "      <td>0</td>\n",
       "    </tr>\n",
       "    <tr>\n",
       "      <th>20</th>\n",
       "      <td>0</td>\n",
       "    </tr>\n",
       "    <tr>\n",
       "      <th>21</th>\n",
       "      <td>0</td>\n",
       "    </tr>\n",
       "    <tr>\n",
       "      <th>22</th>\n",
       "      <td>0</td>\n",
       "    </tr>\n",
       "    <tr>\n",
       "      <th>23</th>\n",
       "      <td>0</td>\n",
       "    </tr>\n",
       "    <tr>\n",
       "      <th>24</th>\n",
       "      <td>0</td>\n",
       "    </tr>\n",
       "    <tr>\n",
       "      <th>25</th>\n",
       "      <td>0</td>\n",
       "    </tr>\n",
       "    <tr>\n",
       "      <th>26</th>\n",
       "      <td>0</td>\n",
       "    </tr>\n",
       "    <tr>\n",
       "      <th>27</th>\n",
       "      <td>0</td>\n",
       "    </tr>\n",
       "    <tr>\n",
       "      <th>28</th>\n",
       "      <td>0</td>\n",
       "    </tr>\n",
       "    <tr>\n",
       "      <th>29</th>\n",
       "      <td>0</td>\n",
       "    </tr>\n",
       "    <tr>\n",
       "      <th>...</th>\n",
       "      <td>...</td>\n",
       "    </tr>\n",
       "    <tr>\n",
       "      <th>5301</th>\n",
       "      <td>17</td>\n",
       "    </tr>\n",
       "    <tr>\n",
       "      <th>5302</th>\n",
       "      <td>17</td>\n",
       "    </tr>\n",
       "    <tr>\n",
       "      <th>5303</th>\n",
       "      <td>17</td>\n",
       "    </tr>\n",
       "    <tr>\n",
       "      <th>5304</th>\n",
       "      <td>17</td>\n",
       "    </tr>\n",
       "    <tr>\n",
       "      <th>5305</th>\n",
       "      <td>17</td>\n",
       "    </tr>\n",
       "    <tr>\n",
       "      <th>5306</th>\n",
       "      <td>17</td>\n",
       "    </tr>\n",
       "    <tr>\n",
       "      <th>5307</th>\n",
       "      <td>17</td>\n",
       "    </tr>\n",
       "    <tr>\n",
       "      <th>5308</th>\n",
       "      <td>17</td>\n",
       "    </tr>\n",
       "    <tr>\n",
       "      <th>5309</th>\n",
       "      <td>17</td>\n",
       "    </tr>\n",
       "    <tr>\n",
       "      <th>5310</th>\n",
       "      <td>17</td>\n",
       "    </tr>\n",
       "    <tr>\n",
       "      <th>5311</th>\n",
       "      <td>17</td>\n",
       "    </tr>\n",
       "    <tr>\n",
       "      <th>5312</th>\n",
       "      <td>17</td>\n",
       "    </tr>\n",
       "    <tr>\n",
       "      <th>5313</th>\n",
       "      <td>17</td>\n",
       "    </tr>\n",
       "    <tr>\n",
       "      <th>5314</th>\n",
       "      <td>17</td>\n",
       "    </tr>\n",
       "    <tr>\n",
       "      <th>5315</th>\n",
       "      <td>17</td>\n",
       "    </tr>\n",
       "    <tr>\n",
       "      <th>5316</th>\n",
       "      <td>17</td>\n",
       "    </tr>\n",
       "    <tr>\n",
       "      <th>5317</th>\n",
       "      <td>17</td>\n",
       "    </tr>\n",
       "    <tr>\n",
       "      <th>5318</th>\n",
       "      <td>17</td>\n",
       "    </tr>\n",
       "    <tr>\n",
       "      <th>5319</th>\n",
       "      <td>17</td>\n",
       "    </tr>\n",
       "    <tr>\n",
       "      <th>5320</th>\n",
       "      <td>17</td>\n",
       "    </tr>\n",
       "    <tr>\n",
       "      <th>5321</th>\n",
       "      <td>17</td>\n",
       "    </tr>\n",
       "    <tr>\n",
       "      <th>5322</th>\n",
       "      <td>17</td>\n",
       "    </tr>\n",
       "    <tr>\n",
       "      <th>5323</th>\n",
       "      <td>17</td>\n",
       "    </tr>\n",
       "    <tr>\n",
       "      <th>5324</th>\n",
       "      <td>17</td>\n",
       "    </tr>\n",
       "    <tr>\n",
       "      <th>5325</th>\n",
       "      <td>17</td>\n",
       "    </tr>\n",
       "    <tr>\n",
       "      <th>5326</th>\n",
       "      <td>17</td>\n",
       "    </tr>\n",
       "    <tr>\n",
       "      <th>5327</th>\n",
       "      <td>17</td>\n",
       "    </tr>\n",
       "    <tr>\n",
       "      <th>5328</th>\n",
       "      <td>17</td>\n",
       "    </tr>\n",
       "    <tr>\n",
       "      <th>5329</th>\n",
       "      <td>17</td>\n",
       "    </tr>\n",
       "    <tr>\n",
       "      <th>5330</th>\n",
       "      <td>17</td>\n",
       "    </tr>\n",
       "  </tbody>\n",
       "</table>\n",
       "<p>5331 rows × 1 columns</p>\n",
       "</div>"
      ],
      "text/plain": [
       "       0\n",
       "0      0\n",
       "1      0\n",
       "2      0\n",
       "3      0\n",
       "4      0\n",
       "5      0\n",
       "6      0\n",
       "7      0\n",
       "8      0\n",
       "9      0\n",
       "10     0\n",
       "11     0\n",
       "12     0\n",
       "13     0\n",
       "14     0\n",
       "15     0\n",
       "16     0\n",
       "17     0\n",
       "18     0\n",
       "19     0\n",
       "20     0\n",
       "21     0\n",
       "22     0\n",
       "23     0\n",
       "24     0\n",
       "25     0\n",
       "26     0\n",
       "27     0\n",
       "28     0\n",
       "29     0\n",
       "...   ..\n",
       "5301  17\n",
       "5302  17\n",
       "5303  17\n",
       "5304  17\n",
       "5305  17\n",
       "5306  17\n",
       "5307  17\n",
       "5308  17\n",
       "5309  17\n",
       "5310  17\n",
       "5311  17\n",
       "5312  17\n",
       "5313  17\n",
       "5314  17\n",
       "5315  17\n",
       "5316  17\n",
       "5317  17\n",
       "5318  17\n",
       "5319  17\n",
       "5320  17\n",
       "5321  17\n",
       "5322  17\n",
       "5323  17\n",
       "5324  17\n",
       "5325  17\n",
       "5326  17\n",
       "5327  17\n",
       "5328  17\n",
       "5329  17\n",
       "5330  17\n",
       "\n",
       "[5331 rows x 1 columns]"
      ]
     },
     "execution_count": 61,
     "metadata": {},
     "output_type": "execute_result"
    }
   ],
   "source": [
    "dfDummies"
   ]
  },
  {
   "cell_type": "code",
   "execution_count": null,
   "metadata": {},
   "outputs": [],
   "source": []
  }
 ],
 "metadata": {
  "kernelspec": {
   "display_name": "Python 3",
   "language": "python",
   "name": "python3"
  },
  "language_info": {
   "codemirror_mode": {
    "name": "ipython",
    "version": 3
   },
   "file_extension": ".py",
   "mimetype": "text/x-python",
   "name": "python",
   "nbconvert_exporter": "python",
   "pygments_lexer": "ipython3",
   "version": "3.6.8"
  }
 },
 "nbformat": 4,
 "nbformat_minor": 2
}
